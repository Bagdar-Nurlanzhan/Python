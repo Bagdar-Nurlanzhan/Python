{
 "cells": [
  {
   "cell_type": "code",
   "execution_count": null,
   "metadata": {},
   "outputs": [
    {
     "data": {
      "text/plain": [
       "Traceback (most recent call last):\n",
       "  File \"c:\\Users\\tursy\\.vscode\\extensions\\ms-python.python-2025.2.0-win32-x64\\python_files\\python_server.py\", line 133, in exec_user_input\n",
       "    retval = callable_(user_input, user_globals)\n",
       "             ^^^^^^^^^^^^^^^^^^^^^^^^^^^^^^^^^^^\n",
       "  File \"<string>\", line 12, in <module>\n",
       "FileNotFoundError: No file 'clock.png' found in working directory 'c:\\Users\\tursy\\OneDrive\\Рабочий стол\\python\\Python'.\n",
       "\n"
      ]
     },
     "metadata": {},
     "output_type": "display_data"
    }
   ],
   "source": [
    "import pygame\n",
    "import math\n",
    "from datetime import datetime\n",
    "\n",
    "def blitrotate(surf, image, pos, originPos, angle):\n",
    "    image_rect = image.get_rect(center=(pos[0], pos[1]))\n",
    "    rotated_image = pygame.transform.rotate(image, -angle) \n",
    "    rotated_rect = rotated_image.get_rect(center=image_rect.center)\n",
    "    surf.blit(rotated_image, rotated_rect)\n",
    "\n",
    "pygame.init()\n",
    "clocks = pygame.image.load(\"clock.png\")\n",
    "minutes = pygame.image.load(\"rightarm.png\")\n",
    "seconds = pygame.image.load(\"leftarm.png\")\n",
    "screen = pygame.display.set_mode(clocks.get_size())\n",
    "clock = pygame.time.Clock()\n",
    "\n",
    "center_x, center_y = screen.get_width() // 2, screen.get_height() // 2\n",
    "minutes_pos = (center_x, center_y)\n",
    "seconds_pos = (center_x, center_y)\n",
    "\n",
    "running = True\n",
    "while running:\n",
    "    for event in pygame.event.get():\n",
    "        if event.type == pygame.QUIT:\n",
    "            running = False\n",
    "    now = datetime.now()\n",
    "    second_angle = (now.second / 60) * 360\n",
    "    minute_angle = (now.minute / 60) * 360\n",
    "    screen.fill((255, 255, 255)) \n",
    "    screen.blit(clocks, (0, 0))\n",
    "    blitrotate(screen, minutes, minutes_pos, (0, 0), minute_angle)\n",
    "    blitrotate(screen, seconds, seconds_pos, (0, 0), second_angle)\n",
    "\n",
    "    pygame.display.flip()\n",
    "    clock.tick(60)\n",
    "\n",
    "pygame.quit()"
   ]
  },
  {
   "cell_type": "code",
   "execution_count": null,
   "metadata": {},
   "outputs": [],
   "source": []
  },
  {
   "cell_type": "markdown",
   "metadata": {},
   "source": []
  },
  {
   "cell_type": "markdown",
   "metadata": {},
   "source": []
  }
 ],
 "metadata": {
  "language_info": {
   "name": "python"
  }
 },
 "nbformat": 4,
 "nbformat_minor": 2
}
